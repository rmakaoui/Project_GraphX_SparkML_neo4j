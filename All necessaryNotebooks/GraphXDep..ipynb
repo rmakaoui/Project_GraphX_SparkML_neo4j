﻿{
  "metadata": {
    "name": "GraphXDep",
    "kernelspec": {
      "language": "scala",
      "name": "spark2-scala"
    },
    "language_info": {
      "codemirror_mode": "text/x-scala",
      "file_extension": ".scala",
      "mimetype": "text/x-scala",
      "name": "scala",
      "pygments_lexer": "scala"
    }
  },
  "nbformat": 4,
  "nbformat_minor": 2,
  "cells": [
    {
      "cell_type": "code",
      "execution_count": 0,
      "metadata": {
        "autoscroll": "auto"
      },
      "outputs": [],
      "source": "%dep\nz.load(\"org.apache.spark:spark-graphx_2.11:2.4.8\")\nz.load(\"org.neo4j.driver:neo4j-java-driver:4.3.2\")"
    }
  ]
}